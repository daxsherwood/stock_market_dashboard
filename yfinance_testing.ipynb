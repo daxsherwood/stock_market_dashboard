{
 "cells": [
  {
   "cell_type": "code",
   "execution_count": 2,
   "metadata": {},
   "outputs": [],
   "source": [
    "import yfinance as yf"
   ]
  },
  {
   "cell_type": "code",
   "execution_count": 3,
   "metadata": {},
   "outputs": [
    {
     "name": "stderr",
     "output_type": "stream",
     "text": [
      "/tmp/ipykernel_5217/1392117327.py:1: FutureWarning: YF.download() has changed argument auto_adjust default to True\n",
      "  nvda_data = yf.download(\"NVDA\", start=\"2024-01-01\", end=\"2024-12-31\")\n",
      "[*********************100%***********************]  1 of 1 completed\n"
     ]
    }
   ],
   "source": [
    "nvda_data = yf.download(\"NVDA\", start=\"2024-01-01\", end=\"2024-12-31\")"
   ]
  },
  {
   "cell_type": "code",
   "execution_count": 4,
   "metadata": {},
   "outputs": [
    {
     "name": "stdout",
     "output_type": "stream",
     "text": [
      "Price            Close        High         Low        Open     Volume\n",
      "Ticker            NVDA        NVDA        NVDA        NVDA       NVDA\n",
      "Date                                                                 \n",
      "2024-01-02   48.146576   49.273074   47.573833   49.222098  411254000\n",
      "2024-01-03   47.547840   48.162564   47.298950   47.463878  320896000\n",
      "2024-01-04   47.976654   48.478430   47.486870   47.745754  306535000\n",
      "2024-01-05   49.075157   49.524958   48.284509   48.440441  415039000\n",
      "2024-01-08   52.229752   52.251745   49.456987   49.489974  642510000\n",
      "...                ...         ...         ...         ...        ...\n",
      "2024-12-23  139.647446  139.767421  135.098177  136.257994  176053500\n",
      "2024-12-24  140.197372  141.877094  138.627618  139.977407  105157000\n",
      "2024-12-26  139.907410  140.827275  137.707768  139.677451  116205600\n",
      "2024-12-27  136.987885  138.997570  134.688268  138.527645  170582600\n",
      "2024-12-30  137.467804  140.247354  133.998363  134.808230  167734700\n",
      "\n",
      "[251 rows x 5 columns]\n"
     ]
    }
   ],
   "source": [
    "print(nvda_data)"
   ]
  },
  {
   "cell_type": "code",
   "execution_count": null,
   "metadata": {},
   "outputs": [],
   "source": []
  }
 ],
 "metadata": {
  "kernelspec": {
   "display_name": "Python (trading)",
   "language": "python",
   "name": "trading"
  },
  "language_info": {
   "codemirror_mode": {
    "name": "ipython",
    "version": 3
   },
   "file_extension": ".py",
   "mimetype": "text/x-python",
   "name": "python",
   "nbconvert_exporter": "python",
   "pygments_lexer": "ipython3",
   "version": "3.12.3"
  }
 },
 "nbformat": 4,
 "nbformat_minor": 2
}
